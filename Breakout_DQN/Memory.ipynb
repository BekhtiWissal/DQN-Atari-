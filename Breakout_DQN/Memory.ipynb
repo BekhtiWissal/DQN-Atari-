{
 "cells": [
  {
   "cell_type": "code",
   "execution_count": null,
   "metadata": {},
   "outputs": [],
   "source": [
    "Transition = namedtuple('Transion',\n",
    "                        ('state', 'action', 'next_state', 'reward'))\n",
    "class Memory(object):\n",
    "    def __init__(self, max_len):\n",
    "        self.memory = deque([],maxlen=max_len)\n",
    "\n",
    "    def push(self, *args):\n",
    "        self.memory.append(Transition(*args))\n",
    "\n",
    "    def sample(self, batch_size):\n",
    "        return random.sample(self.memory, batch_size)\n",
    "\n",
    "    def __len__(self):\n",
    "        return len(self.memory)"
   ]
  }
 ],
 "metadata": {
  "language_info": {
   "name": "python"
  }
 },
 "nbformat": 4,
 "nbformat_minor": 2
}
