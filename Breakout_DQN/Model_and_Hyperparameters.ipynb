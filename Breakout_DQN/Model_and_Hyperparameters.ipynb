{
 "cells": [
  {
   "cell_type": "code",
   "execution_count": null,
   "metadata": {},
   "outputs": [],
   "source": [
    "class DQN(nn.Module):\n",
    "\n",
    "    def __init__(self, n_actions):\n",
    "        super(DQN, self).__init__()\n",
    "        #The input to the network is a 4x84x84 tensor\n",
    "        input_shape=(4,84,84)\n",
    "        self.network = nn.Sequential(\n",
    "        #The first convolution layer convolves the input with 32 filters of size 8 (stride 4)\n",
    "            nn.Conv2d(input_shape[0], 32, kernel_size=8, stride=4),\n",
    "            nn.ReLU(),\n",
    "        #the second layer has 64 layers of size 4 (stride 2)\n",
    "            nn.Conv2d(32, 64, kernel_size=4, stride=2),\n",
    "            nn.ReLU(),\n",
    "        #the final convolution layer has 64 filters of size 3 (stride 1)\n",
    "            nn.Conv2d(64, 64, kernel_size=3, stride=1),\n",
    "            nn.ReLU(),\n",
    "        #followed by a fully-connected hidden layer of 512 units\n",
    "            nn.Flatten(),\n",
    "            nn.Linear(7*7*64,512),\n",
    "        #All these layers are separated by Rectifier Linear Units (ReLu)\n",
    "            nn.ReLU(),\n",
    "        #a fully-connected linear layer projects to the output of the network,\n",
    "        # i.e., the Q-values\n",
    "            nn.Linear(512, n_actions)\n",
    "        )\n",
    "\n",
    "    def forward(self, x):\n",
    "        y = self.network(x)\n",
    "        return y"
   ]
  },
  {
   "cell_type": "code",
   "execution_count": null,
   "metadata": {},
   "outputs": [],
   "source": [
    "#Hyperparameters for DQN\n",
    "BATCH_SIZE = 32\n",
    "#In all experiments, the discount was set to γ = 0.99\n",
    "GAMMA = 0.99\n",
    "\n",
    "EPS_START = 1\n",
    "EPS_END = 0.01\n",
    "#The simple exploration policy used is an eps-greedy policy with the eps decreasing\n",
    "# linearly from 1 to 0.1 over 1M steps.\n",
    "EPS_DECAY = (1000000)/(1-0.1)\n",
    "TAU = 0.005\n",
    "#the learn-ing rate to α = 0.00025\n",
    "LR = 0.00025\n",
    "\n",
    "#The number of steps between target net-work updates was τ = 10,000\n",
    "TARGET_UPDATE = 10000\n",
    "\n",
    "INITIAL_MEMORY = 10000\n",
    "UPDATE_FREQ = 4\n",
    "\n",
    "#no_op reset\n",
    "no_op_action=30\n",
    "\n",
    "# Get number of actions from gym action space\n",
    "n_actions = env.action_space.n\n",
    "frame, _=env.reset()\n",
    "input_shape=(4,84,84)\n",
    "n_observations = len(frame)\n",
    "print(n_observations, n_actions)"
   ]
  },
  {
   "cell_type": "code",
   "execution_count": null,
   "metadata": {},
   "outputs": [],
   "source": [
    "policy_net = DQN(n_actions=env.action_space.n).to(device)\n",
    "target_net = DQN(n_actions=env.action_space.n).to(device)\n",
    "target_net.load_state_dict(policy_net.state_dict())"
   ]
  },
  {
   "cell_type": "code",
   "execution_count": null,
   "metadata": {},
   "outputs": [],
   "source": [
    "#The optimization employed to train the network is RMSProp (with momentum parameter 0.95)\n",
    "optimizer = optim.RMSprop(policy_net.parameters(), lr=LR, alpha=0.95)\n",
    "scheduler = lr_scheduler.StepLR(optimizer, step_size=10000, gamma=0.01)\n",
    "#The size of the experience replay memory is 1M tuples\n",
    "memory = Memory(1000000)"
   ]
  }
 ],
 "metadata": {
  "language_info": {
   "name": "python"
  }
 },
 "nbformat": 4,
 "nbformat_minor": 2
}
